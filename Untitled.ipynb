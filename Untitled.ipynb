{
 "cells": [
  {
   "cell_type": "code",
   "execution_count": 1,
   "id": "e1210913-ef4e-45b7-857d-48bcc546fd86",
   "metadata": {},
   "outputs": [],
   "source": [
    "import numpy as np"
   ]
  },
  {
   "cell_type": "code",
   "execution_count": 2,
   "id": "79aabb1a-fac6-4e14-952f-6b9fe134e8e3",
   "metadata": {},
   "outputs": [],
   "source": [
    "import pandas as pd"
   ]
  },
  {
   "cell_type": "code",
   "execution_count": 3,
   "id": "333c9ed6-b9a5-477d-8f18-8cd861b5ae2b",
   "metadata": {},
   "outputs": [],
   "source": [
    "import seaborn as sns"
   ]
  },
  {
   "cell_type": "code",
   "execution_count": 4,
   "id": "0b3e74ae-0903-478d-8f6b-0d473f5b209d",
   "metadata": {},
   "outputs": [],
   "source": [
    "import matplotlib.pyplot as plt"
   ]
  },
  {
   "cell_type": "code",
   "execution_count": 7,
   "id": "a1d997ff-8ecb-468d-89b6-ad35eac3a4c9",
   "metadata": {},
   "outputs": [],
   "source": [
    "calories = pd.read_csv('calories.csv')\n",
    "exercise = pd.read_csv('exercise.csv')"
   ]
  },
  {
   "cell_type": "code",
   "execution_count": 8,
   "id": "05a1310c-4606-42ea-ba5e-e33d11ab5618",
   "metadata": {},
   "outputs": [],
   "source": [
    "df = exercise.merge(calories, on='User_ID')"
   ]
  },
  {
   "cell_type": "code",
   "execution_count": 9,
   "id": "3084bfad-2f7a-4cc5-a89e-21d1715f1dfa",
   "metadata": {},
   "outputs": [],
   "source": [
    "df['Gender'] = df['Gender'].map({'male': 1, 'female': 0})"
   ]
  },
  {
   "cell_type": "code",
   "execution_count": 10,
   "id": "dcbf196f-0bfc-4394-a432-a8d09f6ca4ab",
   "metadata": {},
   "outputs": [],
   "source": [
    "X = df.drop(['User_ID', 'Calories'], axis=1)\n",
    "y = df['Calories']"
   ]
  },
  {
   "cell_type": "code",
   "execution_count": 11,
   "id": "409bee9f-c512-476d-bc1d-122096b5788b",
   "metadata": {},
   "outputs": [],
   "source": [
    "from sklearn.model_selection import train_test_split"
   ]
  },
  {
   "cell_type": "code",
   "execution_count": 12,
   "id": "4c77cd68-840a-4624-90fa-c5656fb89af1",
   "metadata": {},
   "outputs": [],
   "source": [
    "X_train, X_test, y_train, y_test = train_test_split(X, y, test_size=0.2, random_state=42)"
   ]
  },
  {
   "cell_type": "code",
   "execution_count": 13,
   "id": "7bef8496-ba84-4ba6-96f3-f81f59bf537c",
   "metadata": {},
   "outputs": [],
   "source": [
    "from sklearn.linear_model import LinearRegression, Ridge, Lasso"
   ]
  },
  {
   "cell_type": "code",
   "execution_count": 14,
   "id": "8e62f564-5c03-4dc3-acec-19e1361b980b",
   "metadata": {},
   "outputs": [],
   "source": [
    "from sklearn.tree import DecisionTreeRegressor"
   ]
  },
  {
   "cell_type": "code",
   "execution_count": 15,
   "id": "67ecd9a7-793a-4fb3-a33d-a10f36f3a5cd",
   "metadata": {},
   "outputs": [],
   "source": [
    "from sklearn.ensemble import RandomForestRegressor"
   ]
  },
  {
   "cell_type": "code",
   "execution_count": 16,
   "id": "00db8b5f-ee6b-4e9c-8bec-b439e0947097",
   "metadata": {},
   "outputs": [],
   "source": [
    "from sklearn.metrics import r2_score, mean_squared_error"
   ]
  },
  {
   "cell_type": "code",
   "execution_count": 17,
   "id": "3a7eb4ad-d030-40c4-a0b1-be84e893b83d",
   "metadata": {},
   "outputs": [],
   "source": [
    "models = {\n",
    "    'lr': LinearRegression(),\n",
    "    'rd': Ridge(),\n",
    "    'ls': Lasso(),\n",
    "    'dtr': DecisionTreeRegressor(),\n",
    "    'rfr': RandomForestRegressor()\n",
    "}"
   ]
  },
  {
   "cell_type": "code",
   "execution_count": 18,
   "id": "bd544227-f786-40a4-b568-d9a2feb74f4b",
   "metadata": {},
   "outputs": [
    {
     "name": "stdout",
     "output_type": "stream",
     "text": [
      "lr  MSE: 131.99574575081698, Score: 0.9672937151257295\n",
      "rd  MSE: 131.99625903139344, Score: 0.9672935879435945\n",
      "ls  MSE: 143.82689461175062, Score: 0.9643621590908397\n",
      "dtr  MSE: 27.835333333333335, Score: 0.9931028811846033\n",
      "rfr  MSE: 7.513042466666667, Score: 0.9981383967658233\n"
     ]
    }
   ],
   "source": [
    "for name, mod in models.items():\n",
    "    mod.fit(X_train, y_train)\n",
    "    y_pred = mod.predict(X_test)\n",
    "\n",
    "    print(f\"{name}  MSE: {mean_squared_error(y_test, y_pred)}, Score: {r2_score(y_test, y_pred)}\")"
   ]
  },
  {
   "cell_type": "code",
   "execution_count": null,
   "id": "4a7813ca-f936-41b9-a2dd-50610cbdc591",
   "metadata": {},
   "outputs": [],
   "source": [
    "rfr = RandomForestRegressor()\n",
    "rfr.fit(X_train, y_train)\n",
    "y_pred = rfr.predict(X_test)\n",
    "\n",
    "import pickle\n",
    "\n",
    "pickle.dump(rfr, open('rfr.pkl', 'wb'))\n",
    "X_train.to_csv('X_train.csv')"
   ]
  }
 ],
 "metadata": {
  "kernelspec": {
   "display_name": "Python 3 (ipykernel)",
   "language": "python",
   "name": "python3"
  },
  "language_info": {
   "codemirror_mode": {
    "name": "ipython",
    "version": 3
   },
   "file_extension": ".py",
   "mimetype": "text/x-python",
   "name": "python",
   "nbconvert_exporter": "python",
   "pygments_lexer": "ipython3",
   "version": "3.12.4"
  }
 },
 "nbformat": 4,
 "nbformat_minor": 5
}
